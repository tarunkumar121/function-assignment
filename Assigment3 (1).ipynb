{
  "nbformat": 4,
  "nbformat_minor": 0,
  "metadata": {
    "colab": {
      "provenance": []
    },
    "kernelspec": {
      "name": "python3",
      "display_name": "Python 3"
    },
    "language_info": {
      "name": "python"
    }
  },
  "cells": [
    {
      "cell_type": "code",
      "execution_count": null,
      "metadata": {
        "id": "8T4obcr0U-Pr"
      },
      "outputs": [],
      "source": [
        "#Question 1. What is the difference between a function and a method in Python?\n",
        "\n",
        "             -Function and method both are used to execute block of code, they have following differences\n",
        "\n",
        "              Function\n",
        "\n",
        "                      A function is reuseable block of code that perfoms a specific task\n",
        "                      It is defuned using the def keyword\n",
        "                      can exist independently of class\n",
        "                      Function can be called directly\n",
        "\n",
        "\n",
        "               Method\n",
        "                      A Method is a function tha is assosciated with an aobjector class\n",
        "                      It is defined within a class and typicaallyoperates on the instances of that class\n",
        "                      self method is which refers to itself\n",
        "                      Can be called using an object of class\n",
        "\n",
        "\n",
        "\n",
        "#Question 2 Explain the concept of function arguments and parameters in Python. ?\n",
        "\n",
        "\n",
        "            Parameters: These are variables defined in a function’s declaration and act as placeholders for values that will be passed when calling the function.\n",
        "\n",
        "            Arguments: These are the actual values provided when calling a function.\n",
        "\n",
        "\n",
        "\n",
        "              Keyword Arguments\n",
        "\n",
        "              Arguments are passed by explicitly naming the parameters.\n",
        "\n",
        "               Default Arguments\n",
        "\n",
        "               Parameters can have default values if no argument is provided.\n",
        "\n",
        "\n",
        "\n",
        "              Variable-Length Arguments\n",
        "\n",
        "              *args (Non-keyword arguments): Allows passing multiple positional arguments.\n",
        "\n",
        "\n",
        "\n",
        "#Question 3 What are the different ways to define and call a function in Python?\n",
        "\n",
        "            -functions can be defined in various ways depending on the requirements. Here are the different types of functions and how to call them\n",
        "\n",
        "             Regular Function\tStandard function with defined parameters\n",
        "\n",
        "             Default Arguments\tAllows optional parameters\n",
        "             *args, **kwargs\tHandles multiple arguments dynamically\n",
        "\n",
        "             Lambda Function\tOne-liner function for simple operations\n",
        "\n",
        "             Nested Function\tFunction inside another function\n",
        "\n",
        "             Recursive Function\tFunction calling itself\n",
        "\n",
        "\n",
        "#Question 4  What is the purpose of the `return` statement in a Python function?\n",
        "\n",
        "            The return statement in a Python function serves a crucial role: it specifies the output of a function and allows it to send data back to the caller. Without it, a function would execute but wouldn’t return any value explicitly, defaulting to None.\n",
        "\n",
        "            Key Purposes of return\n",
        "\n",
        "            Sends a Value Back\n",
        "\n",
        "            It allows a function to process data and return results to be used elsewhere.\n",
        "\n",
        "\n",
        "\n",
        "\n",
        "#Question  5. What are iterators in Python and how do they differ from iterables?\n",
        "\n",
        "              -Iterable: An object that can be looped over (e.g., lists, tuples, dictionaries).\n",
        "\n",
        "              -Iterator: An object that implements the __iter__() and __next__() methods, allowing iteration.\n",
        "\n",
        "\n",
        "#Question 6. Explain the concept of generators in Python and how they are defined.\n",
        "\n",
        "\n",
        "             -Generators are special functions that return values lazily using the yield keyword instead of return.\n",
        "\n",
        "\n",
        "\n",
        "              Here is an example\n",
        "\n",
        ""
      ]
    },
    {
      "cell_type": "code",
      "source": [
        "def my_generator():\n",
        "    yield 1\n",
        "    yield 2\n",
        "    yield 3\n",
        "\n",
        "gen = my_generator()\n",
        "print(next(gen))  # Output: 1\n",
        "print(next(gen))  # Output: 2\n"
      ],
      "metadata": {
        "colab": {
          "base_uri": "https://localhost:8080/"
        },
        "id": "AWvSVDoqe8PJ",
        "outputId": "e47676a0-82d7-4054-d4dd-fd4d1cc9bb1e"
      },
      "execution_count": 3,
      "outputs": [
        {
          "output_type": "stream",
          "name": "stdout",
          "text": [
            "1\n",
            "2\n"
          ]
        }
      ]
    },
    {
      "cell_type": "code",
      "source": [
        "#Question 7 What are the advantages of using generators over regular functions?\n",
        "\n",
        "\n",
        "            -Memory Efficiency   Doesn't store entire data in memory, generates values on demand.\n",
        "\n",
        "            -Lazy Evaluation     Processes elements one at a time instead of all at once.\n",
        "\n",
        "            -Simplifies Code     No need to maintain large lists manually.\n",
        "\n",
        "\n",
        "\n",
        "#Question 8  What is a lambda function in Python and when is it typically used?\n",
        "\n",
        "             -A lambda function is a small, anonymous function defined using the lambda keyword, used for short operations\n",
        "\n",
        "\n",
        "\n",
        "#Question 9. Explain the purpose and usage of the map() function in Python.\n",
        "\n",
        "            -Purpose → Applies a function to each item in an iterable and returns a new iterable.\n",
        "\n",
        "\n",
        "             here is an example\n"
      ],
      "metadata": {
        "id": "YUvhIedjfbh6"
      },
      "execution_count": null,
      "outputs": []
    },
    {
      "cell_type": "code",
      "source": [
        "numbers = [1, 2, 3]\n",
        "squared = list(map(lambda x: x ** 2, numbers))\n",
        "print(squared)  # Output: [1, 4, 9]\n"
      ],
      "metadata": {
        "colab": {
          "base_uri": "https://localhost:8080/"
        },
        "id": "Z9rTA5UkgZgR",
        "outputId": "c8d4ecc2-a2f1-4352-91f1-ddf6c338a96e"
      },
      "execution_count": 5,
      "outputs": [
        {
          "output_type": "stream",
          "name": "stdout",
          "text": [
            "[1, 4, 9]\n"
          ]
        }
      ]
    },
    {
      "cell_type": "code",
      "source": [
        "#Question 10  What is the difference between map(), reduce(), and filter() functions in Python?\n",
        "\n",
        "              -Great question! These three functions—map(), reduce(), and filter()—are all part of Python's functional programming toolkit and help process iterables efficiently.\n",
        "\n",
        "              1. map()\n",
        "\n",
        "                 Purpose: Applies a function to each element in an iterable and returns a new iterable.\n",
        "                 Use Case: When you need to transform data.\n",
        "\n",
        "\n",
        "              2. filter()\n",
        "\n",
        "                 Purpose: Filters elements in an iterable based on a condition.\n",
        "                 Use Case: When you want to select only certain elements.\n",
        "\n",
        "              3. reduce()\n",
        "\n",
        "                 Purpose: Reduces an iterable to a single cumulative value.\n",
        "                 Use Case: When you need an aggregated result.\n",
        ""
      ],
      "metadata": {
        "id": "s2qCX4Bvgguc"
      },
      "execution_count": null,
      "outputs": []
    },
    {
      "cell_type": "code",
      "source": [
        "#Question 11  Using pen & Paper write the internal mechanism for sum operation using reduce function on this given\n",
        "list:[47,11,42,13];\n",
        "\n",
        "https://drive.google.com/file/d/1mhBhLTl5o6lE4vbNML3tFKdvz4o316d0/view?usp=sharing\n"
      ],
      "metadata": {
        "id": "XoF6zAtG56Q8"
      },
      "execution_count": null,
      "outputs": []
    }
  ]
}